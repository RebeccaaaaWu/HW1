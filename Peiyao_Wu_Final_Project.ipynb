{
 "cells": [
  {
   "cell_type": "markdown",
   "id": "ff93c337",
   "metadata": {},
   "source": [
    "## Final Project\n",
    "#### Name: Peiyao Wu                \n",
    "#### Class: ISGB-7943-003"
   ]
  },
  {
   "cell_type": "markdown",
   "id": "74a96103",
   "metadata": {},
   "source": [
    "## Problem 1: Analysis Report for Dataset births.xlsx"
   ]
  },
  {
   "cell_type": "code",
   "execution_count": 1,
   "id": "c1c982c9",
   "metadata": {},
   "outputs": [],
   "source": [
    "import datetime\n",
    "import getpass\n",
    "import pandas as pd\n",
    "import matplotlib.pyplot as plt\n",
    "import seaborn as sns\n",
    "%matplotlib inline\n",
    "sns.set(palette = \"rainbow\")\n",
    "#Display fractuon with two decumal places but it does not round the number.\n",
    "pd.set_option('display.precision', 2)"
   ]
  },
  {
   "cell_type": "markdown",
   "id": "370ba649",
   "metadata": {},
   "source": [
    "### 1.1 Read data "
   ]
  },
  {
   "cell_type": "code",
   "execution_count": 2,
   "id": "6916f472",
   "metadata": {},
   "outputs": [
    {
     "data": {
      "text/html": [
       "<div>\n",
       "<style scoped>\n",
       "    .dataframe tbody tr th:only-of-type {\n",
       "        vertical-align: middle;\n",
       "    }\n",
       "\n",
       "    .dataframe tbody tr th {\n",
       "        vertical-align: top;\n",
       "    }\n",
       "\n",
       "    .dataframe thead th {\n",
       "        text-align: right;\n",
       "    }\n",
       "</style>\n",
       "<table border=\"1\" class=\"dataframe\">\n",
       "  <thead>\n",
       "    <tr style=\"text-align: right;\">\n",
       "      <th></th>\n",
       "      <th>birth_year</th>\n",
       "      <th>gender</th>\n",
       "      <th>ethnicity</th>\n",
       "      <th>first_name</th>\n",
       "      <th>frequency</th>\n",
       "    </tr>\n",
       "  </thead>\n",
       "  <tbody>\n",
       "    <tr>\n",
       "      <th>0</th>\n",
       "      <td>2011</td>\n",
       "      <td>female</td>\n",
       "      <td>hispanic</td>\n",
       "      <td>geraldine</td>\n",
       "      <td>13</td>\n",
       "    </tr>\n",
       "    <tr>\n",
       "      <th>1</th>\n",
       "      <td>2011</td>\n",
       "      <td>female</td>\n",
       "      <td>hispanic</td>\n",
       "      <td>gia</td>\n",
       "      <td>21</td>\n",
       "    </tr>\n",
       "    <tr>\n",
       "      <th>2</th>\n",
       "      <td>2011</td>\n",
       "      <td>female</td>\n",
       "      <td>hispanic</td>\n",
       "      <td>gianna</td>\n",
       "      <td>49</td>\n",
       "    </tr>\n",
       "    <tr>\n",
       "      <th>3</th>\n",
       "      <td>2011</td>\n",
       "      <td>female</td>\n",
       "      <td>hispanic</td>\n",
       "      <td>giselle</td>\n",
       "      <td>38</td>\n",
       "    </tr>\n",
       "    <tr>\n",
       "      <th>4</th>\n",
       "      <td>2011</td>\n",
       "      <td>female</td>\n",
       "      <td>hispanic</td>\n",
       "      <td>grace</td>\n",
       "      <td>36</td>\n",
       "    </tr>\n",
       "    <tr>\n",
       "      <th>...</th>\n",
       "      <td>...</td>\n",
       "      <td>...</td>\n",
       "      <td>...</td>\n",
       "      <td>...</td>\n",
       "      <td>...</td>\n",
       "    </tr>\n",
       "    <tr>\n",
       "      <th>37532</th>\n",
       "      <td>2014</td>\n",
       "      <td>male</td>\n",
       "      <td>white non hispanic</td>\n",
       "      <td>yousef</td>\n",
       "      <td>18</td>\n",
       "    </tr>\n",
       "    <tr>\n",
       "      <th>37533</th>\n",
       "      <td>2014</td>\n",
       "      <td>male</td>\n",
       "      <td>white non hispanic</td>\n",
       "      <td>youssef</td>\n",
       "      <td>24</td>\n",
       "    </tr>\n",
       "    <tr>\n",
       "      <th>37534</th>\n",
       "      <td>2014</td>\n",
       "      <td>male</td>\n",
       "      <td>white non hispanic</td>\n",
       "      <td>yusuf</td>\n",
       "      <td>16</td>\n",
       "    </tr>\n",
       "    <tr>\n",
       "      <th>37535</th>\n",
       "      <td>2014</td>\n",
       "      <td>male</td>\n",
       "      <td>white non hispanic</td>\n",
       "      <td>zachary</td>\n",
       "      <td>90</td>\n",
       "    </tr>\n",
       "    <tr>\n",
       "      <th>37536</th>\n",
       "      <td>2014</td>\n",
       "      <td>male</td>\n",
       "      <td>white non hispanic</td>\n",
       "      <td>zev</td>\n",
       "      <td>49</td>\n",
       "    </tr>\n",
       "  </tbody>\n",
       "</table>\n",
       "<p>37537 rows × 5 columns</p>\n",
       "</div>"
      ],
      "text/plain": [
       "       birth_year  gender           ethnicity first_name  frequency\n",
       "0            2011  female            hispanic  geraldine         13\n",
       "1            2011  female            hispanic        gia         21\n",
       "2            2011  female            hispanic     gianna         49\n",
       "3            2011  female            hispanic    giselle         38\n",
       "4            2011  female            hispanic      grace         36\n",
       "...           ...     ...                 ...        ...        ...\n",
       "37532        2014    male  white non hispanic     yousef         18\n",
       "37533        2014    male  white non hispanic    youssef         24\n",
       "37534        2014    male  white non hispanic      yusuf         16\n",
       "37535        2014    male  white non hispanic    zachary         90\n",
       "37536        2014    male  white non hispanic        zev         49\n",
       "\n",
       "[37537 rows x 5 columns]"
      ]
     },
     "execution_count": 2,
     "metadata": {},
     "output_type": "execute_result"
    }
   ],
   "source": [
    "births = pd.read_excel('births.xlsx')\n",
    "births"
   ]
  },
  {
   "cell_type": "code",
   "execution_count": 3,
   "id": "21677c79",
   "metadata": {},
   "outputs": [
    {
     "name": "stdout",
     "output_type": "stream",
     "text": [
      "<class 'pandas.core.frame.DataFrame'>\n",
      "RangeIndex: 37537 entries, 0 to 37536\n",
      "Data columns (total 5 columns):\n",
      " #   Column      Non-Null Count  Dtype \n",
      "---  ------      --------------  ----- \n",
      " 0   birth_year  37537 non-null  int64 \n",
      " 1   gender      37537 non-null  object\n",
      " 2   ethnicity   37537 non-null  object\n",
      " 3   first_name  37537 non-null  object\n",
      " 4   frequency   37537 non-null  int64 \n",
      "dtypes: int64(2), object(3)\n",
      "memory usage: 1.4+ MB\n"
     ]
    }
   ],
   "source": [
    "#Check all attributes of the dataframe\n",
    "births.info()"
   ]
  },
  {
   "cell_type": "markdown",
   "id": "bafb6313",
   "metadata": {},
   "source": [
    "### 1.2 According to the dataframe, there were 1273,006 babies reported born."
   ]
  },
  {
   "cell_type": "code",
   "execution_count": 4,
   "id": "40e5b9b5",
   "metadata": {},
   "outputs": [
    {
     "data": {
      "text/plain": [
       "1273006"
      ]
     },
     "execution_count": 4,
     "metadata": {},
     "output_type": "execute_result"
    }
   ],
   "source": [
    "births.frequency.sum()"
   ]
  },
  {
   "cell_type": "markdown",
   "id": "8cd5880e",
   "metadata": {},
   "source": [
    "### 1.3 Of the babies reported born, <font color = red>558, 728 babies are female </font>  and <font color = red> 714, 278 babies </font> are male. A summarized chart for gender distribution is downbelow."
   ]
  },
  {
   "cell_type": "code",
   "execution_count": 5,
   "id": "6ad0a77e",
   "metadata": {},
   "outputs": [
    {
     "data": {
      "text/plain": [
       "gender\n",
       "female    558728\n",
       "male      714278\n",
       "Name: frequency, dtype: int64"
      ]
     },
     "execution_count": 5,
     "metadata": {},
     "output_type": "execute_result"
    }
   ],
   "source": [
    "births.groupby('gender').frequency.sum()"
   ]
  },
  {
   "cell_type": "code",
   "execution_count": 6,
   "id": "023c1f3b",
   "metadata": {},
   "outputs": [],
   "source": [
    "#births.gender.value_counts(normalize=False)"
   ]
  },
  {
   "cell_type": "code",
   "execution_count": 7,
   "id": "59f1670f",
   "metadata": {},
   "outputs": [
    {
     "data": {
      "text/plain": [
       "<AxesSubplot:title={'center':'Gender distribution on new-born babies in NYC'}, ylabel='frequency'>"
      ]
     },
     "execution_count": 7,
     "metadata": {},
     "output_type": "execute_result"
    },
    {
     "data": {
      "image/png": "[encoded data removed]",
      "text/plain": [
       "<Figure size 432x288 with 1 Axes>"
      ]
     },
     "metadata": {},
     "output_type": "display_data"
    }
   ],
   "source": [
    "births.groupby('gender').frequency.sum().plot(kind=\"pie\", title = 'Gender distribution on new-born babies in NYC')"
   ]
  },
  {
   "cell_type": "markdown",
   "id": "f37f0885",
   "metadata": {},
   "source": [
    "### 1.4 The number of babies reported born based on each year\n",
    "### Findings: \n",
    "### Between 2011 and 2017, the number of babies from 2011 to 2014 is not much different. However, started from 2015, the number of newborns fell sharply and remained low till 2017. "
   ]
  },
  {
   "cell_type": "code",
   "execution_count": 8,
   "id": "ffb01a2a",
   "metadata": {},
   "outputs": [
    {
     "data": {
      "text/plain": [
       "birth_year\n",
       "2011    269829\n",
       "2012    274122\n",
       "2013    262686\n",
       "2014    262634\n",
       "2015     69600\n",
       "2016     68740\n",
       "2017     65395\n",
       "Name: frequency, dtype: int64"
      ]
     },
     "execution_count": 8,
     "metadata": {},
     "output_type": "execute_result"
    }
   ],
   "source": [
    "births.groupby('birth_year')['frequency'].sum()"
   ]
  },
  {
   "cell_type": "code",
   "execution_count": 9,
   "id": "8d9c643f",
   "metadata": {},
   "outputs": [
    {
     "data": {
      "text/plain": [
       "<AxesSubplot:title={'center':'How many babies reported born in each year?'}, xlabel='birth_year'>"
      ]
     },
     "execution_count": 9,
     "metadata": {},
     "output_type": "execute_result"
    },
    {
     "data": {
      "image/png": "[encoded data removed]",
      "text/plain": [
       "<Figure size 576x288 with 1 Axes>"
      ]
     },
     "metadata": {},
     "output_type": "display_data"
    }
   ],
   "source": [
    "births.groupby('birth_year')['frequency'].sum().plot(figsize = (8,4), title = 'How many babies reported born in each year?')"
   ]
  },
  {
   "cell_type": "markdown",
   "id": "74b48c7b",
   "metadata": {},
   "source": [
    "### 1.5 The number of babies born regarding to ethnicity\n",
    "### Findings: \n",
    "### Based on the pie chart, newborns are consisted of <font color = red> 7 ethnicities(actually are 4 ethnicites)</font>, the most two majority groups are <font color = red> hispanic with 425, 239</font> newborns and <font color = red>white non hispanic with 386, 688</font> newborns. Then black non hispanic and asian and pacific islander new borns are second tier. Besides, the ethnicity with the fewest newborns is black non hispanic."
   ]
  },
  {
   "cell_type": "code",
   "execution_count": 10,
   "id": "81576301",
   "metadata": {},
   "outputs": [
    {
     "data": {
      "text/plain": [
       "ethnicity\n",
       "hispanic                      425239\n",
       "white non hispanic            386688\n",
       "black non hispanic            145804\n",
       "asian and pacific islander    131935\n",
       "white non hisp                103829\n",
       "asian and paci                 40085\n",
       "black non hisp                 39426\n",
       "Name: frequency, dtype: int64"
      ]
     },
     "execution_count": 10,
     "metadata": {},
     "output_type": "execute_result"
    }
   ],
   "source": [
    "births.groupby('ethnicity').frequency.sum().sort_values(ascending = False)"
   ]
  },
  {
   "cell_type": "code",
   "execution_count": 11,
   "id": "d18675de",
   "metadata": {},
   "outputs": [
    {
     "data": {
      "text/plain": [
       "<AxesSubplot:title={'center':'Ethnicity distribution on new-born babies in NYC'}, ylabel='frequency'>"
      ]
     },
     "execution_count": 11,
     "metadata": {},
     "output_type": "execute_result"
    },
    {
     "data": {
      "image/png": "[encoded data removed]",
      "text/plain": [
       "<Figure size 432x288 with 1 Axes>"
      ]
     },
     "metadata": {},
     "output_type": "display_data"
    }
   ],
   "source": [
    "births.groupby('ethnicity').frequency.sum().plot(kind=\"pie\", title = 'Ethnicity distribution on new-born babies in NYC')"
   ]
  },
  {
   "cell_type": "markdown",
   "id": "e43348fc",
   "metadata": {},
   "source": [
    "### 1.6 The 10 most popular names in the dataset igorning gender, gender, year, ethnicity) are:\n",
    "### Ethan, Jacob, Jayden, Daniel, Matthew, David, Michael, Sophia, Isabella, Aiden    "
   ]
  },
  {
   "cell_type": "code",
   "execution_count": 12,
   "id": "b8ea068d",
   "metadata": {},
   "outputs": [
    {
     "data": {
      "text/plain": [
       "first_name\n",
       "ethan       12071\n",
       "jacob       11762\n",
       "jayden      11165\n",
       "daniel      10035\n",
       "matthew      9983\n",
       "david        9920\n",
       "michael      9796\n",
       "sophia       9578\n",
       "isabella     9291\n",
       "aiden        9276\n",
       "Name: frequency, dtype: int64"
      ]
     },
     "execution_count": 12,
     "metadata": {},
     "output_type": "execute_result"
    }
   ],
   "source": [
    "births.groupby('first_name').frequency.sum().sort_values(ascending = False).head(10)"
   ]
  },
  {
   "cell_type": "markdown",
   "id": "87f634fe",
   "metadata": {},
   "source": [
    "### 1.7 The 10 most popular female baby names in the dataset (ignoring gender, year, ethinicty) are:\n",
    "### Sophia, Isabella, Emma, Olivia, Mia, Emily, Leah, Chloe, Madison, Ava"
   ]
  },
  {
   "cell_type": "code",
   "execution_count": 13,
   "id": "1ced8bc0",
   "metadata": {},
   "outputs": [
    {
     "data": {
      "text/html": [
       "<div>\n",
       "<style scoped>\n",
       "    .dataframe tbody tr th:only-of-type {\n",
       "        vertical-align: middle;\n",
       "    }\n",
       "\n",
       "    .dataframe tbody tr th {\n",
       "        vertical-align: top;\n",
       "    }\n",
       "\n",
       "    .dataframe thead th {\n",
       "        text-align: right;\n",
       "    }\n",
       "</style>\n",
       "<table border=\"1\" class=\"dataframe\">\n",
       "  <thead>\n",
       "    <tr style=\"text-align: right;\">\n",
       "      <th></th>\n",
       "      <th>birth_year</th>\n",
       "      <th>gender</th>\n",
       "      <th>ethnicity</th>\n",
       "      <th>first_name</th>\n",
       "      <th>frequency</th>\n",
       "    </tr>\n",
       "  </thead>\n",
       "  <tbody>\n",
       "    <tr>\n",
       "      <th>0</th>\n",
       "      <td>2011</td>\n",
       "      <td>female</td>\n",
       "      <td>hispanic</td>\n",
       "      <td>geraldine</td>\n",
       "      <td>13</td>\n",
       "    </tr>\n",
       "    <tr>\n",
       "      <th>1</th>\n",
       "      <td>2011</td>\n",
       "      <td>female</td>\n",
       "      <td>hispanic</td>\n",
       "      <td>gia</td>\n",
       "      <td>21</td>\n",
       "    </tr>\n",
       "    <tr>\n",
       "      <th>2</th>\n",
       "      <td>2011</td>\n",
       "      <td>female</td>\n",
       "      <td>hispanic</td>\n",
       "      <td>gianna</td>\n",
       "      <td>49</td>\n",
       "    </tr>\n",
       "    <tr>\n",
       "      <th>3</th>\n",
       "      <td>2011</td>\n",
       "      <td>female</td>\n",
       "      <td>hispanic</td>\n",
       "      <td>giselle</td>\n",
       "      <td>38</td>\n",
       "    </tr>\n",
       "    <tr>\n",
       "      <th>4</th>\n",
       "      <td>2011</td>\n",
       "      <td>female</td>\n",
       "      <td>hispanic</td>\n",
       "      <td>grace</td>\n",
       "      <td>36</td>\n",
       "    </tr>\n",
       "    <tr>\n",
       "      <th>...</th>\n",
       "      <td>...</td>\n",
       "      <td>...</td>\n",
       "      <td>...</td>\n",
       "      <td>...</td>\n",
       "      <td>...</td>\n",
       "    </tr>\n",
       "    <tr>\n",
       "      <th>36526</th>\n",
       "      <td>2014</td>\n",
       "      <td>female</td>\n",
       "      <td>white non hispanic</td>\n",
       "      <td>yocheved</td>\n",
       "      <td>28</td>\n",
       "    </tr>\n",
       "    <tr>\n",
       "      <th>36527</th>\n",
       "      <td>2014</td>\n",
       "      <td>female</td>\n",
       "      <td>white non hispanic</td>\n",
       "      <td>zelda</td>\n",
       "      <td>12</td>\n",
       "    </tr>\n",
       "    <tr>\n",
       "      <th>36528</th>\n",
       "      <td>2014</td>\n",
       "      <td>female</td>\n",
       "      <td>white non hispanic</td>\n",
       "      <td>zissy</td>\n",
       "      <td>25</td>\n",
       "    </tr>\n",
       "    <tr>\n",
       "      <th>36529</th>\n",
       "      <td>2014</td>\n",
       "      <td>female</td>\n",
       "      <td>white non hispanic</td>\n",
       "      <td>zoe</td>\n",
       "      <td>96</td>\n",
       "    </tr>\n",
       "    <tr>\n",
       "      <th>36530</th>\n",
       "      <td>2014</td>\n",
       "      <td>female</td>\n",
       "      <td>white non hispanic</td>\n",
       "      <td>zoey</td>\n",
       "      <td>26</td>\n",
       "    </tr>\n",
       "  </tbody>\n",
       "</table>\n",
       "<p>19199 rows × 5 columns</p>\n",
       "</div>"
      ],
      "text/plain": [
       "       birth_year  gender           ethnicity first_name  frequency\n",
       "0            2011  female            hispanic  geraldine         13\n",
       "1            2011  female            hispanic        gia         21\n",
       "2            2011  female            hispanic     gianna         49\n",
       "3            2011  female            hispanic    giselle         38\n",
       "4            2011  female            hispanic      grace         36\n",
       "...           ...     ...                 ...        ...        ...\n",
       "36526        2014  female  white non hispanic   yocheved         28\n",
       "36527        2014  female  white non hispanic      zelda         12\n",
       "36528        2014  female  white non hispanic      zissy         25\n",
       "36529        2014  female  white non hispanic        zoe         96\n",
       "36530        2014  female  white non hispanic       zoey         26\n",
       "\n",
       "[19199 rows x 5 columns]"
      ]
     },
     "execution_count": 13,
     "metadata": {},
     "output_type": "execute_result"
    }
   ],
   "source": [
    "#Create a new data frame which only shows female newborns\n",
    "female_filter = (births.gender == 'female')\n",
    "female = births[female_filter]\n",
    "female"
   ]
  },
  {
   "cell_type": "code",
   "execution_count": 14,
   "id": "f844743a",
   "metadata": {},
   "outputs": [
    {
     "data": {
      "text/html": [
       "<div>\n",
       "<style scoped>\n",
       "    .dataframe tbody tr th:only-of-type {\n",
       "        vertical-align: middle;\n",
       "    }\n",
       "\n",
       "    .dataframe tbody tr th {\n",
       "        vertical-align: top;\n",
       "    }\n",
       "\n",
       "    .dataframe thead th {\n",
       "        text-align: right;\n",
       "    }\n",
       "</style>\n",
       "<table border=\"1\" class=\"dataframe\">\n",
       "  <thead>\n",
       "    <tr style=\"text-align: right;\">\n",
       "      <th></th>\n",
       "      <th></th>\n",
       "      <th>frequency</th>\n",
       "    </tr>\n",
       "    <tr>\n",
       "      <th>first_name</th>\n",
       "      <th>gender</th>\n",
       "      <th></th>\n",
       "    </tr>\n",
       "  </thead>\n",
       "  <tbody>\n",
       "    <tr>\n",
       "      <th>sophia</th>\n",
       "      <th>female</th>\n",
       "      <td>9578</td>\n",
       "    </tr>\n",
       "    <tr>\n",
       "      <th>isabella</th>\n",
       "      <th>female</th>\n",
       "      <td>9291</td>\n",
       "    </tr>\n",
       "    <tr>\n",
       "      <th>emma</th>\n",
       "      <th>female</th>\n",
       "      <td>8581</td>\n",
       "    </tr>\n",
       "    <tr>\n",
       "      <th>olivia</th>\n",
       "      <th>female</th>\n",
       "      <td>8561</td>\n",
       "    </tr>\n",
       "    <tr>\n",
       "      <th>mia</th>\n",
       "      <th>female</th>\n",
       "      <td>8094</td>\n",
       "    </tr>\n",
       "    <tr>\n",
       "      <th>emily</th>\n",
       "      <th>female</th>\n",
       "      <td>7691</td>\n",
       "    </tr>\n",
       "    <tr>\n",
       "      <th>leah</th>\n",
       "      <th>female</th>\n",
       "      <td>6756</td>\n",
       "    </tr>\n",
       "    <tr>\n",
       "      <th>chloe</th>\n",
       "      <th>female</th>\n",
       "      <td>6201</td>\n",
       "    </tr>\n",
       "    <tr>\n",
       "      <th>madison</th>\n",
       "      <th>female</th>\n",
       "      <td>6161</td>\n",
       "    </tr>\n",
       "    <tr>\n",
       "      <th>ava</th>\n",
       "      <th>female</th>\n",
       "      <td>6092</td>\n",
       "    </tr>\n",
       "  </tbody>\n",
       "</table>\n",
       "</div>"
      ],
      "text/plain": [
       "                   frequency\n",
       "first_name gender           \n",
       "sophia     female       9578\n",
       "isabella   female       9291\n",
       "emma       female       8581\n",
       "olivia     female       8561\n",
       "mia        female       8094\n",
       "emily      female       7691\n",
       "leah       female       6756\n",
       "chloe      female       6201\n",
       "madison    female       6161\n",
       "ava        female       6092"
      ]
     },
     "execution_count": 14,
     "metadata": {},
     "output_type": "execute_result"
    }
   ],
   "source": [
    "female1 = female.pivot_table(index = ['first_name', 'gender'], values = 'frequency', aggfunc = sum)\n",
    "female1.sort_values(by='frequency', ascending=False).head(10)\n"
   ]
  },
  {
   "cell_type": "markdown",
   "id": "38c2b7a5",
   "metadata": {},
   "source": [
    "### 1.8 The trend of first name 'David' in the given dataset\n",
    "### Finding:\n",
    "### Based on the second table downbelow, we can clearly see the David's claim was right that the trend of 'David' was going up from 2011 to 2013. However, the popularity of the name 'David' dropped sharply after 2014 whic is down to the amount of few hundreds people. "
   ]
  },
  {
   "cell_type": "code",
   "execution_count": 15,
   "id": "47c857b5",
   "metadata": {},
   "outputs": [
    {
     "data": {
      "text/html": [
       "<div>\n",
       "<style scoped>\n",
       "    .dataframe tbody tr th:only-of-type {\n",
       "        vertical-align: middle;\n",
       "    }\n",
       "\n",
       "    .dataframe tbody tr th {\n",
       "        vertical-align: top;\n",
       "    }\n",
       "\n",
       "    .dataframe thead th {\n",
       "        text-align: right;\n",
       "    }\n",
       "</style>\n",
       "<table border=\"1\" class=\"dataframe\">\n",
       "  <thead>\n",
       "    <tr style=\"text-align: right;\">\n",
       "      <th></th>\n",
       "      <th>birth_year</th>\n",
       "      <th>gender</th>\n",
       "      <th>ethnicity</th>\n",
       "      <th>frequency</th>\n",
       "    </tr>\n",
       "  </thead>\n",
       "  <tbody>\n",
       "    <tr>\n",
       "      <th>587</th>\n",
       "      <td>2011</td>\n",
       "      <td>male</td>\n",
       "      <td>asian and pacific islander</td>\n",
       "      <td>28</td>\n",
       "    </tr>\n",
       "    <tr>\n",
       "      <th>748</th>\n",
       "      <td>2011</td>\n",
       "      <td>male</td>\n",
       "      <td>black non hispanic</td>\n",
       "      <td>84</td>\n",
       "    </tr>\n",
       "    <tr>\n",
       "      <th>1720</th>\n",
       "      <td>2011</td>\n",
       "      <td>male</td>\n",
       "      <td>white non hispanic</td>\n",
       "      <td>258</td>\n",
       "    </tr>\n",
       "    <tr>\n",
       "      <th>2034</th>\n",
       "      <td>2011</td>\n",
       "      <td>male</td>\n",
       "      <td>asian and pacific islander</td>\n",
       "      <td>28</td>\n",
       "    </tr>\n",
       "    <tr>\n",
       "      <th>2195</th>\n",
       "      <td>2011</td>\n",
       "      <td>male</td>\n",
       "      <td>black non hispanic</td>\n",
       "      <td>84</td>\n",
       "    </tr>\n",
       "    <tr>\n",
       "      <th>...</th>\n",
       "      <td>...</td>\n",
       "      <td>...</td>\n",
       "      <td>...</td>\n",
       "      <td>...</td>\n",
       "    </tr>\n",
       "    <tr>\n",
       "      <th>35197</th>\n",
       "      <td>2013</td>\n",
       "      <td>male</td>\n",
       "      <td>white non hispanic</td>\n",
       "      <td>304</td>\n",
       "    </tr>\n",
       "    <tr>\n",
       "      <th>36588</th>\n",
       "      <td>2014</td>\n",
       "      <td>male</td>\n",
       "      <td>asian and pacific islander</td>\n",
       "      <td>30</td>\n",
       "    </tr>\n",
       "    <tr>\n",
       "      <th>36770</th>\n",
       "      <td>2014</td>\n",
       "      <td>male</td>\n",
       "      <td>black non hispanic</td>\n",
       "      <td>46</td>\n",
       "    </tr>\n",
       "    <tr>\n",
       "      <th>36965</th>\n",
       "      <td>2014</td>\n",
       "      <td>male</td>\n",
       "      <td>hispanic</td>\n",
       "      <td>167</td>\n",
       "    </tr>\n",
       "    <tr>\n",
       "      <th>37267</th>\n",
       "      <td>2014</td>\n",
       "      <td>male</td>\n",
       "      <td>white non hispanic</td>\n",
       "      <td>272</td>\n",
       "    </tr>\n",
       "  </tbody>\n",
       "</table>\n",
       "<p>73 rows × 4 columns</p>\n",
       "</div>"
      ],
      "text/plain": [
       "       birth_year gender                   ethnicity  frequency\n",
       "587          2011   male  asian and pacific islander         28\n",
       "748          2011   male          black non hispanic         84\n",
       "1720         2011   male          white non hispanic        258\n",
       "2034         2011   male  asian and pacific islander         28\n",
       "2195         2011   male          black non hispanic         84\n",
       "...           ...    ...                         ...        ...\n",
       "35197        2013   male          white non hispanic        304\n",
       "36588        2014   male  asian and pacific islander         30\n",
       "36770        2014   male          black non hispanic         46\n",
       "36965        2014   male                    hispanic        167\n",
       "37267        2014   male          white non hispanic        272\n",
       "\n",
       "[73 rows x 4 columns]"
      ]
     },
     "execution_count": 15,
     "metadata": {},
     "output_type": "execute_result"
    }
   ],
   "source": [
    "#create a new data frame which only inclues newborns named as 'David' from 2014 to 2016\n",
    "david_filter= (births.first_name == 'david')\n",
    "david = births[david_filter]\n",
    "david.drop(columns = ['first_name'])"
   ]
  },
  {
   "cell_type": "code",
   "execution_count": 16,
   "id": "4bdd8916",
   "metadata": {},
   "outputs": [
    {
     "data": {
      "text/html": [
       "<div>\n",
       "<style scoped>\n",
       "    .dataframe tbody tr th:only-of-type {\n",
       "        vertical-align: middle;\n",
       "    }\n",
       "\n",
       "    .dataframe tbody tr th {\n",
       "        vertical-align: top;\n",
       "    }\n",
       "\n",
       "    .dataframe thead th {\n",
       "        text-align: right;\n",
       "    }\n",
       "</style>\n",
       "<table border=\"1\" class=\"dataframe\">\n",
       "  <thead>\n",
       "    <tr style=\"text-align: right;\">\n",
       "      <th></th>\n",
       "      <th>birth_year</th>\n",
       "      <th>frequency</th>\n",
       "    </tr>\n",
       "  </thead>\n",
       "  <tbody>\n",
       "    <tr>\n",
       "      <th>0</th>\n",
       "      <td>2011</td>\n",
       "      <td>2014</td>\n",
       "    </tr>\n",
       "    <tr>\n",
       "      <th>1</th>\n",
       "      <td>2012</td>\n",
       "      <td>2288</td>\n",
       "    </tr>\n",
       "    <tr>\n",
       "      <th>2</th>\n",
       "      <td>2013</td>\n",
       "      <td>2332</td>\n",
       "    </tr>\n",
       "    <tr>\n",
       "      <th>3</th>\n",
       "      <td>2014</td>\n",
       "      <td>1758</td>\n",
       "    </tr>\n",
       "    <tr>\n",
       "      <th>4</th>\n",
       "      <td>2015</td>\n",
       "      <td>545</td>\n",
       "    </tr>\n",
       "    <tr>\n",
       "      <th>5</th>\n",
       "      <td>2016</td>\n",
       "      <td>476</td>\n",
       "    </tr>\n",
       "    <tr>\n",
       "      <th>6</th>\n",
       "      <td>2017</td>\n",
       "      <td>507</td>\n",
       "    </tr>\n",
       "  </tbody>\n",
       "</table>\n",
       "</div>"
      ],
      "text/plain": [
       "   birth_year  frequency\n",
       "0        2011       2014\n",
       "1        2012       2288\n",
       "2        2013       2332\n",
       "3        2014       1758\n",
       "4        2015        545\n",
       "5        2016        476\n",
       "6        2017        507"
      ]
     },
     "execution_count": 16,
     "metadata": {},
     "output_type": "execute_result"
    }
   ],
   "source": [
    "david = david.pivot_table(index = ['birth_year'], values = 'frequency', aggfunc = sum)\n",
    "david = david.sort_values(by='birth_year', ascending=True)\n",
    "david.reset_index()"
   ]
  },
  {
   "cell_type": "code",
   "execution_count": 17,
   "id": "b441a74e",
   "metadata": {},
   "outputs": [
    {
     "data": {
      "text/plain": [
       "<AxesSubplot:title={'center':\"How many babies used the name 'David' in each year?\"}, xlabel='birth_year'>"
      ]
     },
     "execution_count": 17,
     "metadata": {},
     "output_type": "execute_result"
    },
    {
     "data": {
      "image/png": "[encoded data removed]",
      "text/plain": [
       "<Figure size 720x288 with 1 Axes>"
      ]
     },
     "metadata": {},
     "output_type": "display_data"
    }
   ],
   "source": [
    "david.plot(figsize = (10,4), title = 'How many babies used the name \\'David\\' in each year?', color = 'blue')"
   ]
  },
  {
   "cell_type": "markdown",
   "id": "203040ae",
   "metadata": {},
   "source": [
    "### 1.9 There are 1832 distinct first names in dataset"
   ]
  },
  {
   "cell_type": "code",
   "execution_count": 18,
   "id": "ce1af279",
   "metadata": {},
   "outputs": [
    {
     "data": {
      "text/plain": [
       "1832"
      ]
     },
     "execution_count": 18,
     "metadata": {},
     "output_type": "execute_result"
    }
   ],
   "source": [
    "births.first_name.nunique()"
   ]
  },
  {
   "cell_type": "markdown",
   "id": "7bb43f1a",
   "metadata": {},
   "source": [
    "### 1.10 There are 1011 distinct female names and 852 distinct male names."
   ]
  },
  {
   "cell_type": "code",
   "execution_count": 19,
   "id": "918a14d6",
   "metadata": {},
   "outputs": [
    {
     "data": {
      "text/html": [
       "<div>\n",
       "<style scoped>\n",
       "    .dataframe tbody tr th:only-of-type {\n",
       "        vertical-align: middle;\n",
       "    }\n",
       "\n",
       "    .dataframe tbody tr th {\n",
       "        vertical-align: top;\n",
       "    }\n",
       "\n",
       "    .dataframe thead th {\n",
       "        text-align: right;\n",
       "    }\n",
       "</style>\n",
       "<table border=\"1\" class=\"dataframe\">\n",
       "  <thead>\n",
       "    <tr style=\"text-align: right;\">\n",
       "      <th></th>\n",
       "      <th>birth_year</th>\n",
       "      <th>gender</th>\n",
       "      <th>ethnicity</th>\n",
       "      <th>first_name</th>\n",
       "      <th>frequency</th>\n",
       "    </tr>\n",
       "  </thead>\n",
       "  <tbody>\n",
       "    <tr>\n",
       "      <th>545</th>\n",
       "      <td>2011</td>\n",
       "      <td>male</td>\n",
       "      <td>asian and pacific islander</td>\n",
       "      <td>aarav</td>\n",
       "      <td>15</td>\n",
       "    </tr>\n",
       "    <tr>\n",
       "      <th>546</th>\n",
       "      <td>2011</td>\n",
       "      <td>male</td>\n",
       "      <td>asian and pacific islander</td>\n",
       "      <td>aaron</td>\n",
       "      <td>51</td>\n",
       "    </tr>\n",
       "    <tr>\n",
       "      <th>547</th>\n",
       "      <td>2011</td>\n",
       "      <td>male</td>\n",
       "      <td>asian and pacific islander</td>\n",
       "      <td>abdul</td>\n",
       "      <td>20</td>\n",
       "    </tr>\n",
       "    <tr>\n",
       "      <th>548</th>\n",
       "      <td>2011</td>\n",
       "      <td>male</td>\n",
       "      <td>asian and pacific islander</td>\n",
       "      <td>abdullah</td>\n",
       "      <td>30</td>\n",
       "    </tr>\n",
       "    <tr>\n",
       "      <th>549</th>\n",
       "      <td>2011</td>\n",
       "      <td>male</td>\n",
       "      <td>asian and pacific islander</td>\n",
       "      <td>adam</td>\n",
       "      <td>28</td>\n",
       "    </tr>\n",
       "    <tr>\n",
       "      <th>...</th>\n",
       "      <td>...</td>\n",
       "      <td>...</td>\n",
       "      <td>...</td>\n",
       "      <td>...</td>\n",
       "      <td>...</td>\n",
       "    </tr>\n",
       "    <tr>\n",
       "      <th>37532</th>\n",
       "      <td>2014</td>\n",
       "      <td>male</td>\n",
       "      <td>white non hispanic</td>\n",
       "      <td>yousef</td>\n",
       "      <td>18</td>\n",
       "    </tr>\n",
       "    <tr>\n",
       "      <th>37533</th>\n",
       "      <td>2014</td>\n",
       "      <td>male</td>\n",
       "      <td>white non hispanic</td>\n",
       "      <td>youssef</td>\n",
       "      <td>24</td>\n",
       "    </tr>\n",
       "    <tr>\n",
       "      <th>37534</th>\n",
       "      <td>2014</td>\n",
       "      <td>male</td>\n",
       "      <td>white non hispanic</td>\n",
       "      <td>yusuf</td>\n",
       "      <td>16</td>\n",
       "    </tr>\n",
       "    <tr>\n",
       "      <th>37535</th>\n",
       "      <td>2014</td>\n",
       "      <td>male</td>\n",
       "      <td>white non hispanic</td>\n",
       "      <td>zachary</td>\n",
       "      <td>90</td>\n",
       "    </tr>\n",
       "    <tr>\n",
       "      <th>37536</th>\n",
       "      <td>2014</td>\n",
       "      <td>male</td>\n",
       "      <td>white non hispanic</td>\n",
       "      <td>zev</td>\n",
       "      <td>49</td>\n",
       "    </tr>\n",
       "  </tbody>\n",
       "</table>\n",
       "<p>18338 rows × 5 columns</p>\n",
       "</div>"
      ],
      "text/plain": [
       "       birth_year gender                   ethnicity first_name  frequency\n",
       "545          2011   male  asian and pacific islander      aarav         15\n",
       "546          2011   male  asian and pacific islander      aaron         51\n",
       "547          2011   male  asian and pacific islander      abdul         20\n",
       "548          2011   male  asian and pacific islander   abdullah         30\n",
       "549          2011   male  asian and pacific islander       adam         28\n",
       "...           ...    ...                         ...        ...        ...\n",
       "37532        2014   male          white non hispanic     yousef         18\n",
       "37533        2014   male          white non hispanic    youssef         24\n",
       "37534        2014   male          white non hispanic      yusuf         16\n",
       "37535        2014   male          white non hispanic    zachary         90\n",
       "37536        2014   male          white non hispanic        zev         49\n",
       "\n",
       "[18338 rows x 5 columns]"
      ]
     },
     "execution_count": 19,
     "metadata": {},
     "output_type": "execute_result"
    }
   ],
   "source": [
    "#create a new data frame for male newborns\n",
    "male_filter = (births.gender == 'male')\n",
    "male = births[male_filter]\n",
    "male"
   ]
  },
  {
   "cell_type": "code",
   "execution_count": 20,
   "id": "720b388d",
   "metadata": {},
   "outputs": [
    {
     "data": {
      "text/plain": [
       "1011"
      ]
     },
     "execution_count": 20,
     "metadata": {},
     "output_type": "execute_result"
    }
   ],
   "source": [
    "female.first_name.nunique()"
   ]
  },
  {
   "cell_type": "code",
   "execution_count": 21,
   "id": "bc6f95f1",
   "metadata": {},
   "outputs": [
    {
     "data": {
      "text/plain": [
       "852"
      ]
     },
     "execution_count": 21,
     "metadata": {},
     "output_type": "execute_result"
    }
   ],
   "source": [
    "male.first_name.nunique()"
   ]
  },
  {
   "cell_type": "markdown",
   "id": "d6eb0824",
   "metadata": {},
   "source": [
    "### 1.11 Answer\n",
    "### The answer to 1.9 is not consistent with 1.10. The number of distinct first names in the dataset is 1833, however, based on the question 1.10 and summed up the distinct male and female names, the total number of distinct names is 1863. The possibilty of this situation could be some female newborns and male newborns may be have the same name."
   ]
  },
  {
   "cell_type": "markdown",
   "id": "502e6c08",
   "metadata": {},
   "source": [
    "### 1.12 Total number of babie of each ethnicity born in each.\n",
    "### Explaination for some cells in the table with no values: \n",
    "### There are some null values in the table downbelow, the reason is that when people recorded newborn babies in 2012, they used abbreviated catorical names which is different than the column names on other years' records. For example like instead of using asian and pacific islander, they used asian and paci; same as black non hisp and black non hispanic, etc. Because of this, for column 'asian and paci', 'balck non hisp', and 'white non hisp', they only have data for 2012. That also explains why 'asian and pacific islander', 'black non hispanic' and 'white non hispanic' column are missing values for 2012."
   ]
  },
  {
   "cell_type": "code",
   "execution_count": 22,
   "id": "f0aac095",
   "metadata": {},
   "outputs": [
    {
     "data": {
      "text/html": [
       "<div>\n",
       "<style scoped>\n",
       "    .dataframe tbody tr th:only-of-type {\n",
       "        vertical-align: middle;\n",
       "    }\n",
       "\n",
       "    .dataframe tbody tr th {\n",
       "        vertical-align: top;\n",
       "    }\n",
       "\n",
       "    .dataframe thead th {\n",
       "        text-align: right;\n",
       "    }\n",
       "</style>\n",
       "<table border=\"1\" class=\"dataframe\">\n",
       "  <thead>\n",
       "    <tr style=\"text-align: right;\">\n",
       "      <th>ethnicity</th>\n",
       "      <th>asian and paci</th>\n",
       "      <th>asian and pacific islander</th>\n",
       "      <th>black non hisp</th>\n",
       "      <th>black non hispanic</th>\n",
       "      <th>hispanic</th>\n",
       "      <th>white non hisp</th>\n",
       "      <th>white non hispanic</th>\n",
       "      <th>All</th>\n",
       "    </tr>\n",
       "    <tr>\n",
       "      <th>birth_year</th>\n",
       "      <th></th>\n",
       "      <th></th>\n",
       "      <th></th>\n",
       "      <th></th>\n",
       "      <th></th>\n",
       "      <th></th>\n",
       "      <th></th>\n",
       "      <th></th>\n",
       "    </tr>\n",
       "  </thead>\n",
       "  <tbody>\n",
       "    <tr>\n",
       "      <th>2011</th>\n",
       "      <td>NaN</td>\n",
       "      <td>32217.0</td>\n",
       "      <td>NaN</td>\n",
       "      <td>42045.0</td>\n",
       "      <td>96743.0</td>\n",
       "      <td>NaN</td>\n",
       "      <td>98824.0</td>\n",
       "      <td>269829</td>\n",
       "    </tr>\n",
       "    <tr>\n",
       "      <th>2012</th>\n",
       "      <td>40085.0</td>\n",
       "      <td>NaN</td>\n",
       "      <td>39426.0</td>\n",
       "      <td>NaN</td>\n",
       "      <td>90782.0</td>\n",
       "      <td>103829.0</td>\n",
       "      <td>NaN</td>\n",
       "      <td>274122</td>\n",
       "    </tr>\n",
       "    <tr>\n",
       "      <th>2013</th>\n",
       "      <td>NaN</td>\n",
       "      <td>34760.0</td>\n",
       "      <td>NaN</td>\n",
       "      <td>38548.0</td>\n",
       "      <td>86585.0</td>\n",
       "      <td>NaN</td>\n",
       "      <td>102793.0</td>\n",
       "      <td>262686</td>\n",
       "    </tr>\n",
       "    <tr>\n",
       "      <th>2014</th>\n",
       "      <td>NaN</td>\n",
       "      <td>36536.0</td>\n",
       "      <td>NaN</td>\n",
       "      <td>37728.0</td>\n",
       "      <td>85529.0</td>\n",
       "      <td>NaN</td>\n",
       "      <td>102841.0</td>\n",
       "      <td>262634</td>\n",
       "    </tr>\n",
       "    <tr>\n",
       "      <th>2015</th>\n",
       "      <td>NaN</td>\n",
       "      <td>9584.0</td>\n",
       "      <td>NaN</td>\n",
       "      <td>9637.0</td>\n",
       "      <td>22813.0</td>\n",
       "      <td>NaN</td>\n",
       "      <td>27566.0</td>\n",
       "      <td>69600</td>\n",
       "    </tr>\n",
       "    <tr>\n",
       "      <th>2016</th>\n",
       "      <td>NaN</td>\n",
       "      <td>9973.0</td>\n",
       "      <td>NaN</td>\n",
       "      <td>9147.0</td>\n",
       "      <td>22086.0</td>\n",
       "      <td>NaN</td>\n",
       "      <td>27534.0</td>\n",
       "      <td>68740</td>\n",
       "    </tr>\n",
       "    <tr>\n",
       "      <th>2017</th>\n",
       "      <td>NaN</td>\n",
       "      <td>8865.0</td>\n",
       "      <td>NaN</td>\n",
       "      <td>8699.0</td>\n",
       "      <td>20701.0</td>\n",
       "      <td>NaN</td>\n",
       "      <td>27130.0</td>\n",
       "      <td>65395</td>\n",
       "    </tr>\n",
       "    <tr>\n",
       "      <th>All</th>\n",
       "      <td>40085.0</td>\n",
       "      <td>131935.0</td>\n",
       "      <td>39426.0</td>\n",
       "      <td>145804.0</td>\n",
       "      <td>425239.0</td>\n",
       "      <td>103829.0</td>\n",
       "      <td>386688.0</td>\n",
       "      <td>1273006</td>\n",
       "    </tr>\n",
       "  </tbody>\n",
       "</table>\n",
       "</div>"
      ],
      "text/plain": [
       "ethnicity   asian and paci  asian and pacific islander  black non hisp  \\\n",
       "birth_year                                                               \n",
       "2011                   NaN                     32217.0             NaN   \n",
       "2012               40085.0                         NaN         39426.0   \n",
       "2013                   NaN                     34760.0             NaN   \n",
       "2014                   NaN                     36536.0             NaN   \n",
       "2015                   NaN                      9584.0             NaN   \n",
       "2016                   NaN                      9973.0             NaN   \n",
       "2017                   NaN                      8865.0             NaN   \n",
       "All                40085.0                    131935.0         39426.0   \n",
       "\n",
       "ethnicity   black non hispanic  hispanic  white non hisp  white non hispanic  \\\n",
       "birth_year                                                                     \n",
       "2011                   42045.0   96743.0             NaN             98824.0   \n",
       "2012                       NaN   90782.0        103829.0                 NaN   \n",
       "2013                   38548.0   86585.0             NaN            102793.0   \n",
       "2014                   37728.0   85529.0             NaN            102841.0   \n",
       "2015                    9637.0   22813.0             NaN             27566.0   \n",
       "2016                    9147.0   22086.0             NaN             27534.0   \n",
       "2017                    8699.0   20701.0             NaN             27130.0   \n",
       "All                   145804.0  425239.0        103829.0            386688.0   \n",
       "\n",
       "ethnicity       All  \n",
       "birth_year           \n",
       "2011         269829  \n",
       "2012         274122  \n",
       "2013         262686  \n",
       "2014         262634  \n",
       "2015          69600  \n",
       "2016          68740  \n",
       "2017          65395  \n",
       "All         1273006  "
      ]
     },
     "execution_count": 22,
     "metadata": {},
     "output_type": "execute_result"
    }
   ],
   "source": [
    "pd.crosstab(births.birth_year, births.ethnicity,values=births.frequency, aggfunc=\"sum\", margins=True)"
   ]
  },
  {
   "cell_type": "markdown",
   "id": "7b4e9caa",
   "metadata": {},
   "source": [
    "### 1.13 Regarding to the information from downbelow, the claim made by some socilogists is not right, from the result for 'difference', we can conclude that even the number of female newborn babies are less than femal babies all the time, but, the gap of newborn popularities between two genders is actually narrowed. "
   ]
  },
  {
   "cell_type": "code",
   "execution_count": 52,
   "id": "7e322c25",
   "metadata": {},
   "outputs": [
    {
     "data": {
      "text/html": [
       "<div>\n",
       "<style scoped>\n",
       "    .dataframe tbody tr th:only-of-type {\n",
       "        vertical-align: middle;\n",
       "    }\n",
       "\n",
       "    .dataframe tbody tr th {\n",
       "        vertical-align: top;\n",
       "    }\n",
       "\n",
       "    .dataframe thead th {\n",
       "        text-align: right;\n",
       "    }\n",
       "</style>\n",
       "<table border=\"1\" class=\"dataframe\">\n",
       "  <thead>\n",
       "    <tr style=\"text-align: right;\">\n",
       "      <th>gender</th>\n",
       "      <th>female</th>\n",
       "      <th>male</th>\n",
       "      <th>All</th>\n",
       "    </tr>\n",
       "    <tr>\n",
       "      <th>birth_year</th>\n",
       "      <th></th>\n",
       "      <th></th>\n",
       "      <th></th>\n",
       "    </tr>\n",
       "  </thead>\n",
       "  <tbody>\n",
       "    <tr>\n",
       "      <th>2011</th>\n",
       "      <td>117700</td>\n",
       "      <td>152129</td>\n",
       "      <td>269829</td>\n",
       "    </tr>\n",
       "    <tr>\n",
       "      <th>2012</th>\n",
       "      <td>119406</td>\n",
       "      <td>154716</td>\n",
       "      <td>274122</td>\n",
       "    </tr>\n",
       "    <tr>\n",
       "      <th>2013</th>\n",
       "      <td>115183</td>\n",
       "      <td>147503</td>\n",
       "      <td>262686</td>\n",
       "    </tr>\n",
       "    <tr>\n",
       "      <th>2014</th>\n",
       "      <td>116590</td>\n",
       "      <td>146044</td>\n",
       "      <td>262634</td>\n",
       "    </tr>\n",
       "    <tr>\n",
       "      <th>2015</th>\n",
       "      <td>30592</td>\n",
       "      <td>39008</td>\n",
       "      <td>69600</td>\n",
       "    </tr>\n",
       "    <tr>\n",
       "      <th>2016</th>\n",
       "      <td>30360</td>\n",
       "      <td>38380</td>\n",
       "      <td>68740</td>\n",
       "    </tr>\n",
       "    <tr>\n",
       "      <th>2017</th>\n",
       "      <td>28897</td>\n",
       "      <td>36498</td>\n",
       "      <td>65395</td>\n",
       "    </tr>\n",
       "    <tr>\n",
       "      <th>All</th>\n",
       "      <td>558728</td>\n",
       "      <td>714278</td>\n",
       "      <td>1273006</td>\n",
       "    </tr>\n",
       "  </tbody>\n",
       "</table>\n",
       "</div>"
      ],
      "text/plain": [
       "gender      female    male      All\n",
       "birth_year                         \n",
       "2011        117700  152129   269829\n",
       "2012        119406  154716   274122\n",
       "2013        115183  147503   262686\n",
       "2014        116590  146044   262634\n",
       "2015         30592   39008    69600\n",
       "2016         30360   38380    68740\n",
       "2017         28897   36498    65395\n",
       "All         558728  714278  1273006"
      ]
     },
     "execution_count": 52,
     "metadata": {},
     "output_type": "execute_result"
    }
   ],
   "source": [
    "gender_info = pd.crosstab(births.birth_year, births.gender,values=births.frequency, aggfunc=\"sum\", margins=True)\n",
    "gender_info"
   ]
  },
  {
   "cell_type": "code",
   "execution_count": 53,
   "id": "6f70926b",
   "metadata": {},
   "outputs": [
    {
     "data": {
      "text/plain": [
       "birth_year\n",
       "2011    -34429\n",
       "2012    -35310\n",
       "2013    -32320\n",
       "2014    -29454\n",
       "2015     -8416\n",
       "2016     -8020\n",
       "2017     -7601\n",
       "All    -155550\n",
       "dtype: int64"
      ]
     },
     "execution_count": 53,
     "metadata": {},
     "output_type": "execute_result"
    }
   ],
   "source": [
    "difference = gender_info['female']-gender_info['male']\n",
    "difference"
   ]
  },
  {
   "cell_type": "markdown",
   "id": "72460052",
   "metadata": {},
   "source": [
    "## Part 2. Analysis report of dataset house_prices.xlsx"
   ]
  },
  {
   "cell_type": "code",
   "execution_count": 54,
   "id": "63693132",
   "metadata": {},
   "outputs": [
    {
     "data": {
      "text/html": [
       "<div>\n",
       "<style scoped>\n",
       "    .dataframe tbody tr th:only-of-type {\n",
       "        vertical-align: middle;\n",
       "    }\n",
       "\n",
       "    .dataframe tbody tr th {\n",
       "        vertical-align: top;\n",
       "    }\n",
       "\n",
       "    .dataframe thead th {\n",
       "        text-align: right;\n",
       "    }\n",
       "</style>\n",
       "<table border=\"1\" class=\"dataframe\">\n",
       "  <thead>\n",
       "    <tr style=\"text-align: right;\">\n",
       "      <th></th>\n",
       "      <th>address</th>\n",
       "      <th>price</th>\n",
       "      <th>acres</th>\n",
       "      <th>size_sqft</th>\n",
       "      <th>age</th>\n",
       "      <th>rooms</th>\n",
       "      <th>baths</th>\n",
       "      <th>garages</th>\n",
       "    </tr>\n",
       "  </thead>\n",
       "  <tbody>\n",
       "    <tr>\n",
       "      <th>0</th>\n",
       "      <td>9 Sycamore Road</td>\n",
       "      <td>466.00</td>\n",
       "      <td>0.23</td>\n",
       "      <td>2448</td>\n",
       "      <td>46</td>\n",
       "      <td>7</td>\n",
       "      <td>3.5</td>\n",
       "      <td>2</td>\n",
       "    </tr>\n",
       "    <tr>\n",
       "      <th>1</th>\n",
       "      <td>21 Jefferson St</td>\n",
       "      <td>364.00</td>\n",
       "      <td>0.22</td>\n",
       "      <td>1942</td>\n",
       "      <td>51</td>\n",
       "      <td>7</td>\n",
       "      <td>2.5</td>\n",
       "      <td>1</td>\n",
       "    </tr>\n",
       "    <tr>\n",
       "      <th>2</th>\n",
       "      <td>38 Hitching Post Lane</td>\n",
       "      <td>429.00</td>\n",
       "      <td>0.16</td>\n",
       "      <td>2073</td>\n",
       "      <td>29</td>\n",
       "      <td>5</td>\n",
       "      <td>3.0</td>\n",
       "      <td>2</td>\n",
       "    </tr>\n",
       "    <tr>\n",
       "      <th>3</th>\n",
       "      <td>4 Poppy Lane</td>\n",
       "      <td>548.40</td>\n",
       "      <td>0.46</td>\n",
       "      <td>2707</td>\n",
       "      <td>18</td>\n",
       "      <td>8</td>\n",
       "      <td>2.5</td>\n",
       "      <td>1</td>\n",
       "    </tr>\n",
       "    <tr>\n",
       "      <th>4</th>\n",
       "      <td>5 Daniel Drive</td>\n",
       "      <td>405.90</td>\n",
       "      <td>0.25</td>\n",
       "      <td>2042</td>\n",
       "      <td>46</td>\n",
       "      <td>7</td>\n",
       "      <td>1.5</td>\n",
       "      <td>1</td>\n",
       "    </tr>\n",
       "    <tr>\n",
       "      <th>5</th>\n",
       "      <td>15 Francis Terrace</td>\n",
       "      <td>374.10</td>\n",
       "      <td>0.23</td>\n",
       "      <td>2089</td>\n",
       "      <td>88</td>\n",
       "      <td>7</td>\n",
       "      <td>2.0</td>\n",
       "      <td>0</td>\n",
       "    </tr>\n",
       "    <tr>\n",
       "      <th>6</th>\n",
       "      <td>23 Guilfoy Street</td>\n",
       "      <td>315.00</td>\n",
       "      <td>0.18</td>\n",
       "      <td>1433</td>\n",
       "      <td>48</td>\n",
       "      <td>7</td>\n",
       "      <td>2.0</td>\n",
       "      <td>0</td>\n",
       "    </tr>\n",
       "    <tr>\n",
       "      <th>7</th>\n",
       "      <td>17 Carlyle Drive</td>\n",
       "      <td>749.74</td>\n",
       "      <td>0.50</td>\n",
       "      <td>2991</td>\n",
       "      <td>7</td>\n",
       "      <td>9</td>\n",
       "      <td>2.5</td>\n",
       "      <td>1</td>\n",
       "    </tr>\n",
       "    <tr>\n",
       "      <th>8</th>\n",
       "      <td>8 Craft Avenue</td>\n",
       "      <td>217.70</td>\n",
       "      <td>0.22</td>\n",
       "      <td>1008</td>\n",
       "      <td>52</td>\n",
       "      <td>5</td>\n",
       "      <td>1.0</td>\n",
       "      <td>0</td>\n",
       "    </tr>\n",
       "    <tr>\n",
       "      <th>9</th>\n",
       "      <td>22 Beechwood Ct.</td>\n",
       "      <td>635.70</td>\n",
       "      <td>0.13</td>\n",
       "      <td>3202</td>\n",
       "      <td>15</td>\n",
       "      <td>8</td>\n",
       "      <td>2.5</td>\n",
       "      <td>2</td>\n",
       "    </tr>\n",
       "    <tr>\n",
       "      <th>10</th>\n",
       "      <td>14 Fox Street</td>\n",
       "      <td>350.70</td>\n",
       "      <td>0.18</td>\n",
       "      <td>2230</td>\n",
       "      <td>54</td>\n",
       "      <td>8</td>\n",
       "      <td>2.0</td>\n",
       "      <td>0</td>\n",
       "    </tr>\n",
       "    <tr>\n",
       "      <th>11</th>\n",
       "      <td>7 Raynham Road</td>\n",
       "      <td>455.00</td>\n",
       "      <td>0.42</td>\n",
       "      <td>1848</td>\n",
       "      <td>48</td>\n",
       "      <td>7</td>\n",
       "      <td>2.0</td>\n",
       "      <td>1</td>\n",
       "    </tr>\n",
       "    <tr>\n",
       "      <th>12</th>\n",
       "      <td>2 Jerome Drive</td>\n",
       "      <td>356.20</td>\n",
       "      <td>0.25</td>\n",
       "      <td>2100</td>\n",
       "      <td>46</td>\n",
       "      <td>6</td>\n",
       "      <td>2.0</td>\n",
       "      <td>0</td>\n",
       "    </tr>\n",
       "    <tr>\n",
       "      <th>13</th>\n",
       "      <td>7 Valentine Street</td>\n",
       "      <td>271.70</td>\n",
       "      <td>0.11</td>\n",
       "      <td>1846</td>\n",
       "      <td>12</td>\n",
       "      <td>5</td>\n",
       "      <td>3.0</td>\n",
       "      <td>1</td>\n",
       "    </tr>\n",
       "    <tr>\n",
       "      <th>14</th>\n",
       "      <td>38 Jefferson Street</td>\n",
       "      <td>304.30</td>\n",
       "      <td>0.17</td>\n",
       "      <td>1331</td>\n",
       "      <td>64</td>\n",
       "      <td>5</td>\n",
       "      <td>1.0</td>\n",
       "      <td>1</td>\n",
       "    </tr>\n",
       "    <tr>\n",
       "      <th>15</th>\n",
       "      <td>15 Inwood Road</td>\n",
       "      <td>288.40</td>\n",
       "      <td>0.17</td>\n",
       "      <td>1344</td>\n",
       "      <td>52</td>\n",
       "      <td>8</td>\n",
       "      <td>1.0</td>\n",
       "      <td>0</td>\n",
       "    </tr>\n",
       "    <tr>\n",
       "      <th>16</th>\n",
       "      <td>29 Meadowfield Lane</td>\n",
       "      <td>396.70</td>\n",
       "      <td>0.38</td>\n",
       "      <td>1822</td>\n",
       "      <td>44</td>\n",
       "      <td>6</td>\n",
       "      <td>2.0</td>\n",
       "      <td>1</td>\n",
       "    </tr>\n",
       "    <tr>\n",
       "      <th>17</th>\n",
       "      <td>13 Westland Drive</td>\n",
       "      <td>613.50</td>\n",
       "      <td>0.65</td>\n",
       "      <td>2479</td>\n",
       "      <td>46</td>\n",
       "      <td>6</td>\n",
       "      <td>2.5</td>\n",
       "      <td>2</td>\n",
       "    </tr>\n",
       "    <tr>\n",
       "      <th>18</th>\n",
       "      <td>79 Valentine Street</td>\n",
       "      <td>314.10</td>\n",
       "      <td>0.17</td>\n",
       "      <td>1605</td>\n",
       "      <td>52</td>\n",
       "      <td>6</td>\n",
       "      <td>3.0</td>\n",
       "      <td>0</td>\n",
       "    </tr>\n",
       "    <tr>\n",
       "      <th>19</th>\n",
       "      <td>13 Fairmont Place</td>\n",
       "      <td>363.50</td>\n",
       "      <td>0.14</td>\n",
       "      <td>2080</td>\n",
       "      <td>78</td>\n",
       "      <td>11</td>\n",
       "      <td>2.0</td>\n",
       "      <td>0</td>\n",
       "    </tr>\n",
       "    <tr>\n",
       "      <th>20</th>\n",
       "      <td>1 Prestwick Terrace</td>\n",
       "      <td>364.30</td>\n",
       "      <td>0.28</td>\n",
       "      <td>2410</td>\n",
       "      <td>71</td>\n",
       "      <td>6</td>\n",
       "      <td>1.0</td>\n",
       "      <td>1</td>\n",
       "    </tr>\n",
       "    <tr>\n",
       "      <th>21</th>\n",
       "      <td>11 Clement Street</td>\n",
       "      <td>305.10</td>\n",
       "      <td>0.11</td>\n",
       "      <td>1753</td>\n",
       "      <td>97</td>\n",
       "      <td>8</td>\n",
       "      <td>2.0</td>\n",
       "      <td>0</td>\n",
       "    </tr>\n",
       "    <tr>\n",
       "      <th>22</th>\n",
       "      <td>7 Woodland Road</td>\n",
       "      <td>441.70</td>\n",
       "      <td>0.36</td>\n",
       "      <td>1884</td>\n",
       "      <td>45</td>\n",
       "      <td>7</td>\n",
       "      <td>2.0</td>\n",
       "      <td>2</td>\n",
       "    </tr>\n",
       "    <tr>\n",
       "      <th>23</th>\n",
       "      <td>36 Elm Avenue</td>\n",
       "      <td>353.10</td>\n",
       "      <td>0.15</td>\n",
       "      <td>2050</td>\n",
       "      <td>41</td>\n",
       "      <td>10</td>\n",
       "      <td>2.0</td>\n",
       "      <td>2</td>\n",
       "    </tr>\n",
       "    <tr>\n",
       "      <th>24</th>\n",
       "      <td>17 Duke Place</td>\n",
       "      <td>463.30</td>\n",
       "      <td>0.23</td>\n",
       "      <td>2978</td>\n",
       "      <td>40</td>\n",
       "      <td>6</td>\n",
       "      <td>2.5</td>\n",
       "      <td>2</td>\n",
       "    </tr>\n",
       "    <tr>\n",
       "      <th>25</th>\n",
       "      <td>12 Prospect Avenue</td>\n",
       "      <td>320.00</td>\n",
       "      <td>0.46</td>\n",
       "      <td>2132</td>\n",
       "      <td>82</td>\n",
       "      <td>7</td>\n",
       "      <td>1.0</td>\n",
       "      <td>0</td>\n",
       "    </tr>\n",
       "    <tr>\n",
       "      <th>26</th>\n",
       "      <td>1 Buckeye Road</td>\n",
       "      <td>332.84</td>\n",
       "      <td>0.19</td>\n",
       "      <td>1551</td>\n",
       "      <td>54</td>\n",
       "      <td>6</td>\n",
       "      <td>2.0</td>\n",
       "      <td>0</td>\n",
       "    </tr>\n",
       "    <tr>\n",
       "      <th>27</th>\n",
       "      <td>30 Ann Street</td>\n",
       "      <td>276.60</td>\n",
       "      <td>0.12</td>\n",
       "      <td>1129</td>\n",
       "      <td>44</td>\n",
       "      <td>5</td>\n",
       "      <td>1.0</td>\n",
       "      <td>0</td>\n",
       "    </tr>\n",
       "    <tr>\n",
       "      <th>28</th>\n",
       "      <td>26 Broadfield Place</td>\n",
       "      <td>397.00</td>\n",
       "      <td>0.15</td>\n",
       "      <td>1674</td>\n",
       "      <td>34</td>\n",
       "      <td>7</td>\n",
       "      <td>2.0</td>\n",
       "      <td>1</td>\n",
       "    </tr>\n",
       "    <tr>\n",
       "      <th>29</th>\n",
       "      <td>16 Jackson Street</td>\n",
       "      <td>221.90</td>\n",
       "      <td>0.09</td>\n",
       "      <td>1184</td>\n",
       "      <td>94</td>\n",
       "      <td>5</td>\n",
       "      <td>1.0</td>\n",
       "      <td>0</td>\n",
       "    </tr>\n",
       "  </tbody>\n",
       "</table>\n",
       "</div>"
      ],
      "text/plain": [
       "                  address   price  acres  size_sqft  age  rooms  baths  \\\n",
       "0         9 Sycamore Road  466.00   0.23       2448   46      7    3.5   \n",
       "1         21 Jefferson St  364.00   0.22       1942   51      7    2.5   \n",
       "2   38 Hitching Post Lane  429.00   0.16       2073   29      5    3.0   \n",
       "3            4 Poppy Lane  548.40   0.46       2707   18      8    2.5   \n",
       "4          5 Daniel Drive  405.90   0.25       2042   46      7    1.5   \n",
       "5      15 Francis Terrace  374.10   0.23       2089   88      7    2.0   \n",
       "6       23 Guilfoy Street  315.00   0.18       1433   48      7    2.0   \n",
       "7        17 Carlyle Drive  749.74   0.50       2991    7      9    2.5   \n",
       "8          8 Craft Avenue  217.70   0.22       1008   52      5    1.0   \n",
       "9        22 Beechwood Ct.  635.70   0.13       3202   15      8    2.5   \n",
       "10          14 Fox Street  350.70   0.18       2230   54      8    2.0   \n",
       "11         7 Raynham Road  455.00   0.42       1848   48      7    2.0   \n",
       "12         2 Jerome Drive  356.20   0.25       2100   46      6    2.0   \n",
       "13     7 Valentine Street  271.70   0.11       1846   12      5    3.0   \n",
       "14    38 Jefferson Street  304.30   0.17       1331   64      5    1.0   \n",
       "15         15 Inwood Road  288.40   0.17       1344   52      8    1.0   \n",
       "16    29 Meadowfield Lane  396.70   0.38       1822   44      6    2.0   \n",
       "17      13 Westland Drive  613.50   0.65       2479   46      6    2.5   \n",
       "18    79 Valentine Street  314.10   0.17       1605   52      6    3.0   \n",
       "19      13 Fairmont Place  363.50   0.14       2080   78     11    2.0   \n",
       "20    1 Prestwick Terrace  364.30   0.28       2410   71      6    1.0   \n",
       "21      11 Clement Street  305.10   0.11       1753   97      8    2.0   \n",
       "22        7 Woodland Road  441.70   0.36       1884   45      7    2.0   \n",
       "23          36 Elm Avenue  353.10   0.15       2050   41     10    2.0   \n",
       "24          17 Duke Place  463.30   0.23       2978   40      6    2.5   \n",
       "25     12 Prospect Avenue  320.00   0.46       2132   82      7    1.0   \n",
       "26         1 Buckeye Road  332.84   0.19       1551   54      6    2.0   \n",
       "27          30 Ann Street  276.60   0.12       1129   44      5    1.0   \n",
       "28    26 Broadfield Place  397.00   0.15       1674   34      7    2.0   \n",
       "29      16 Jackson Street  221.90   0.09       1184   94      5    1.0   \n",
       "\n",
       "    garages  \n",
       "0         2  \n",
       "1         1  \n",
       "2         2  \n",
       "3         1  \n",
       "4         1  \n",
       "5         0  \n",
       "6         0  \n",
       "7         1  \n",
       "8         0  \n",
       "9         2  \n",
       "10        0  \n",
       "11        1  \n",
       "12        0  \n",
       "13        1  \n",
       "14        1  \n",
       "15        0  \n",
       "16        1  \n",
       "17        2  \n",
       "18        0  \n",
       "19        0  \n",
       "20        1  \n",
       "21        0  \n",
       "22        2  \n",
       "23        2  \n",
       "24        2  \n",
       "25        0  \n",
       "26        0  \n",
       "27        0  \n",
       "28        1  \n",
       "29        0  "
      ]
     },
     "execution_count": 54,
     "metadata": {},
     "output_type": "execute_result"
    }
   ],
   "source": [
    "#Read data\n",
    "house_prices = pd.read_excel('house_prices.xlsx')\n",
    "house_prices"
   ]
  },
  {
   "cell_type": "markdown",
   "id": "fa5f052b",
   "metadata": {},
   "source": [
    "### 2.1 House prices in the community"
   ]
  },
  {
   "cell_type": "markdown",
   "id": "de8ba991",
   "metadata": {},
   "source": [
    "### Summary of housing price:\n",
    "### There are 30 houses in this communicty with a average housing price 389.85, and 75% houses' price are equalt to or lower than 438.52. The highest housing price is 749.74 and the lowest one is 217.70."
   ]
  },
  {
   "cell_type": "code",
   "execution_count": 55,
   "id": "4953cb6d",
   "metadata": {},
   "outputs": [
    {
     "data": {
      "text/plain": [
       "count     30.00\n",
       "mean     389.85\n",
       "std      120.39\n",
       "min      217.70\n",
       "25%      314.33\n",
       "50%      363.75\n",
       "75%      438.52\n",
       "max      749.74\n",
       "Name: price, dtype: float64"
      ]
     },
     "execution_count": 55,
     "metadata": {},
     "output_type": "execute_result"
    }
   ],
   "source": [
    "house_prices.price.describe()"
   ]
  },
  {
   "cell_type": "code",
   "execution_count": 56,
   "id": "07c07531",
   "metadata": {},
   "outputs": [
    {
     "data": {
      "image/png": "[encoded data removed]",
      "text/plain": [
       "<Figure size 576x288 with 1 Axes>"
      ]
     },
     "metadata": {},
     "output_type": "display_data"
    }
   ],
   "source": [
    "house_prices.price.plot(kind=\"hist\", figsize= (8,4), title = \"House price\");"
   ]
  },
  {
   "cell_type": "markdown",
   "id": "dd85f7e7",
   "metadata": {},
   "source": [
    "### 2.2 Variation in house prices based on the number of rooms\n",
    "### Findings:\n",
    "### With the same number of rooms, the biggest fluctuation of house price is housing price for house with 8 rooms then is house with 6 rooms. The most stable house price based on number of rooms is price for houses with 7 rooms. "
   ]
  },
  {
   "cell_type": "code",
   "execution_count": 57,
   "id": "b3844528",
   "metadata": {},
   "outputs": [
    {
     "data": {
      "image/png": "[encoded data removed]",
      "text/plain": [
       "<Figure size 576x288 with 1 Axes>"
      ]
     },
     "metadata": {},
     "output_type": "display_data"
    }
   ],
   "source": [
    "house_prices.plot(x=\"rooms\", y = \"price\", kind=\"scatter\", figsize=(8,4), color=\"blue\" );"
   ]
  },
  {
   "cell_type": "markdown",
   "id": "67aebe56",
   "metadata": {},
   "source": [
    "### 2.3 Relation between price other attributes of the house"
   ]
  },
  {
   "cell_type": "markdown",
   "id": "2f778273",
   "metadata": {},
   "source": [
    "### Findings:\n",
    "### Among all the other attributes of the house, price and square feet of living space has the most strongest correlationship. The bigger house, the higher price. Besides, the property size in acres and the number of car garages in the house has the same strong influence on price which is 0.61. Surprisingly, the house price has a really low correlation with the number of rooms, which shows that even houses with many rooms, the house price may not affected by the number of rooms. "
   ]
  },
  {
   "cell_type": "code",
   "execution_count": 58,
   "id": "c6aeb4d5",
   "metadata": {},
   "outputs": [
    {
     "data": {
      "image/png": "[encoded data removed]",
      "text/plain": [
       "<Figure size 432x288 with 2 Axes>"
      ]
     },
     "metadata": {},
     "output_type": "display_data"
    }
   ],
   "source": [
    "sns.heatmap(data= house_prices.corr(), annot = True, cmap = \"rainbow\");"
   ]
  },
  {
   "cell_type": "code",
   "execution_count": 59,
   "id": "c482b029",
   "metadata": {},
   "outputs": [
    {
     "name": "stdout",
     "output_type": "stream",
     "text": [
      "\n",
      "\n",
      "\n",
      "Finished execution at  2021-12-13 05:30:49.222805\n",
      "peiyaowu\n"
     ]
    }
   ],
   "source": [
    "import getpass\n",
    "import datetime\n",
    "print('\\n\\n\\nFinished execution at ', datetime.datetime.now())\n",
    "print(getpass.getuser())"
   ]
  },
  {
   "cell_type": "code",
   "execution_count": null,
   "id": "154ad09c",
   "metadata": {},
   "outputs": [],
   "source": []
  }
 ],
 "metadata": {
  "kernelspec": {
   "display_name": "Python 3 (ipykernel)",
   "language": "python",
   "name": "python3"
  },
  "language_info": {
   "codemirror_mode": {
    "name": "ipython",
    "version": 3
   },
   "file_extension": ".py",
   "mimetype": "text/x-python",
   "name": "python",
   "nbconvert_exporter": "python",
   "pygments_lexer": "ipython3",
   "version": "3.8.12"
  }
 },
 "nbformat": 4,
 "nbformat_minor": 5
}
